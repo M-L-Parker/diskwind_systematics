{
 "cells": [
  {
   "cell_type": "code",
   "execution_count": 1,
   "metadata": {},
   "outputs": [],
   "source": [
    "import numpy as np\n",
    "import pandas as pd\n",
    "from matplotlib import pyplot as pl\n",
    "import seaborn as sb"
   ]
  },
  {
   "cell_type": "code",
   "execution_count": 2,
   "metadata": {},
   "outputs": [],
   "source": [
    "def mutoi(mu):\n",
    "    i=  np.arccos(mu)/2/np.pi*360\n",
    "    return i"
   ]
  },
  {
   "cell_type": "code",
   "execution_count": 25,
   "metadata": {},
   "outputs": [],
   "source": [
    "datafile=\"simulated_spectra/fits_relxill_3to10.dat\"\n",
    "data=pd.read_csv(datafile)\n",
    "\n",
    "data[\"i\"]=mutoi(data[\"mu\"])\n",
    "data[\"delta_a\"]=data[\"fit_a\"]-data[\"a\"]\n",
    "data[\"delta_i\"]=data[\"fit_i\"]-data[\"i\"]\n",
    "data[\"delta_h\"]=data[\"fit_h\"]-data[\"h\"]\n",
    "data[\"delta_A\"]=data[\"fit_Afe\"]-data[\"Afe\"]\n",
    "highspin_data=data[data[\"a\"]==0.98]\n",
    "\n",
    "\n",
    "control_datafile=\"simulated_spectra/fits_relxill_control_3to10.dat\"\n",
    "control_data=pd.read_csv(control_datafile)\n",
    "\n",
    "control_data[\"i\"]=mutoi(control_data[\"mu\"])\n",
    "control_data[\"delta_a\"]=control_data[\"fit_a\"]-control_data[\"a\"]\n",
    "control_data[\"delta_i\"]=control_data[\"fit_i\"]-control_data[\"i\"]\n",
    "control_data[\"delta_h\"]=control_data[\"fit_h\"]-control_data[\"h\"]\n",
    "control_data[\"delta_A\"]=control_data[\"fit_Afe\"]-control_data[\"Afe\"]\n",
    "highspin_control=control_data[control_data[\"a\"]==0.98]\n",
    "\n",
    "\n"
   ]
  },
  {
   "cell_type": "code",
   "execution_count": 26,
   "metadata": {},
   "outputs": [
    {
     "name": "stdout",
     "output_type": "stream",
     "text": [
      "-0.05411354320103555 0.7281516689558304\n",
      "-0.11346908563877448 0.5417515068504865\n"
     ]
    },
    {
     "data": {
      "image/png": "[encoded data removed]",
      "text/plain": [
       "<Figure size 720x360 with 2 Axes>"
      ]
     },
     "metadata": {},
     "output_type": "display_data"
    }
   ],
   "source": [
    "fig=pl.figure(figsize=(10,5),facecolor='w')\n",
    "\n",
    "ax1=pl.subplot(121)\n",
    "h1=pl.hist(data[\"delta_a\"],bins=np.linspace(-2,1,50),alpha=1)\n",
    "mean1=np.mean(data[\"delta_a\"])\n",
    "std1=np.std(data[\"delta_a\"])\n",
    "print(mean1,std1)\n",
    "\n",
    "ax2=pl.subplot(122)\n",
    "h2=pl.hist(control_data[\"delta_a\"],bins=np.linspace(-2,1,50),alpha=1)\n",
    "mean2=np.mean(control_data[\"delta_a\"])\n",
    "std2=np.std(control_data[\"delta_a\"])\n",
    "print(mean2,std2)"
   ]
  },
  {
   "cell_type": "code",
   "execution_count": null,
   "metadata": {},
   "outputs": [],
   "source": []
  }
 ],
 "metadata": {
  "kernelspec": {
   "display_name": "Python 3",
   "language": "python",
   "name": "python3"
  },
  "language_info": {
   "codemirror_mode": {
    "name": "ipython",
    "version": 3
   },
   "file_extension": ".py",
   "mimetype": "text/x-python",
   "name": "python",
   "nbconvert_exporter": "python",
   "pygments_lexer": "ipython3",
   "version": "3.8.5"
  }
 },
 "nbformat": 4,
 "nbformat_minor": 4
}
