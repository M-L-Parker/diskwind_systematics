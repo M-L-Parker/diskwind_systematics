{
 "cells": [
  {
   "cell_type": "code",
   "execution_count": 1,
   "metadata": {},
   "outputs": [],
   "source": [
    "import numpy as np\n",
    "import pandas as pd\n",
    "from matplotlib import pyplot as pl\n",
    "from plot_functions import *\n",
    "from importlib import reload  \n",
    "import sys\n",
    "sys.path.append(\"/home/mlparker/programs/python_modules/plotting_functions/\")\n",
    "from step_plots import *\n",
    "from matplotlib.ticker import *\n",
    "\n",
    "\n",
    "C1='#D81B60'\n",
    "C2='#1E88E5'\n",
    "C3='#FFC107'\n",
    "C4='#135247'\n",
    "colors=[C1,C2,C3,C4]"
   ]
  },
  {
   "cell_type": "code",
   "execution_count": 2,
   "metadata": {},
   "outputs": [],
   "source": [
    "def mutoi(mu):\n",
    "    i=  np.arccos(mu)/2/np.pi*360\n",
    "    return i"
   ]
  },
  {
   "cell_type": "markdown",
   "metadata": {},
   "source": [
    "## Reflection, XMM"
   ]
  },
  {
   "cell_type": "code",
   "execution_count": 3,
   "metadata": {},
   "outputs": [],
   "source": [
    "datafile=\"simulated_spectra_2/xmm_hybrid/fits_relxill_3to10.dat\"\n",
    "data=pd.read_csv(datafile)\n",
    "\n",
    "data[\"i\"]=mutoi(data[\"mu\"])\n",
    "data[\"delta_a\"]=data[\"fit_a\"]-data[\"a\"]\n",
    "data[\"delta_i\"]=data[\"fit_i\"]-data[\"i\"]\n",
    "data[\"delta_A\"]=data[\"fit_Afe\"]-data[\"Afe\"]\n",
    "data['redchi']=data['chi2']/data['dof']\n",
    "\n",
    "datafile_err=\"simulated_spectra_2/xmm_hybrid/fits_relxill_3to10_err.dat\"\n",
    "data_err=pd.read_csv(datafile_err)\n",
    "data_err[\"i\"]=mutoi(data_err[\"mu\"])\n",
    "data_err[\"delta_a\"]=data_err[\"fit_a\"]-data_err[\"a\"]\n",
    "data_err[\"delta_i\"]=data_err[\"fit_i\"]-data_err[\"i\"]\n",
    "data_err[\"delta_A\"]=data_err[\"fit_Afe\"]-data_err[\"Afe\"]\n",
    "data_err['redchi']=data_err['chi2']/data_err['dof']"
   ]
  },
  {
   "cell_type": "code",
   "execution_count": 19,
   "metadata": {},
   "outputs": [
    {
     "name": "stdout",
     "output_type": "stream",
     "text": [
      "20 2.64 2.26\n",
      "0 1.01 1.01\n",
      "2 1.14 1.08\n",
      "0 1.38 1.38\n",
      "33 2.72 2.09\n",
      "53 2.3 1.3\n",
      "0 0.69 0.69\n",
      "0 1.09 1.08\n",
      "0 1.06 1.04\n",
      "0 1.3 1.29\n"
     ]
    }
   ],
   "source": [
    "# print(data_err['filename'])\n",
    "test_pars=['fit_a','fit_Afe','fit_i','fit_gamma','fit_h']\n",
    "for fname in data_err['filename']:\n",
    "    original_chi2=float(data['chi2'][data['filename']==fname])\n",
    "    dof=float(data['dof'][data['filename']==fname])\n",
    "    new_chi2=float(data_err['chi2'][data_err['filename']==fname])\n",
    "#     print(float(data['chi2'][data['filename']==fname]))\n",
    "#     print(float(data_err['chi2'][data_err['filename']==fname]))\n",
    "    print(int(original_chi2-new_chi2), round(original_chi2/dof,2),round(new_chi2/dof,2))"
   ]
  },
  {
   "cell_type": "markdown",
   "metadata": {},
   "source": [
    "## Reflection, Athena"
   ]
  },
  {
   "cell_type": "code",
   "execution_count": 35,
   "metadata": {},
   "outputs": [
    {
     "name": "stdout",
     "output_type": "stream",
     "text": [
      "0 1.16 1.16\n",
      "0 1.04 1.04\n",
      "1 1.09 1.09\n",
      "1 1.05 1.05\n",
      "0 1.08 1.08\n",
      "0 1.02 1.02\n",
      "0 1.03 1.03\n",
      "0 1.02 1.02\n",
      "4 1.28 1.28\n",
      "4 0.99 0.99\n"
     ]
    }
   ],
   "source": [
    "datafile=\"simulated_spectra_2/athena_hybrid/fits_relxill_3to10.dat\"\n",
    "data=pd.read_csv(datafile)\n",
    "\n",
    "data[\"i\"]=mutoi(data[\"mu\"])\n",
    "data[\"delta_a\"]=data[\"fit_a\"]-data[\"a\"]\n",
    "data[\"delta_i\"]=data[\"fit_i\"]-data[\"i\"]\n",
    "data[\"delta_A\"]=data[\"fit_Afe\"]-data[\"Afe\"]\n",
    "data['redchi']=data['chi2']/data['dof']\n",
    "\n",
    "datafile_err=\"simulated_spectra_2/athena_hybrid/fits_relxill_3to10_err.dat\"\n",
    "data_err=pd.read_csv(datafile_err)\n",
    "data_err[\"i\"]=mutoi(data_err[\"mu\"])\n",
    "data_err[\"delta_a\"]=data_err[\"fit_a\"]-data_err[\"a\"]\n",
    "data_err[\"delta_i\"]=data_err[\"fit_i\"]-data_err[\"i\"]\n",
    "data_err[\"delta_A\"]=data_err[\"fit_Afe\"]-data_err[\"Afe\"]\n",
    "data_err['redchi']=data_err['chi2']/data_err['dof']\n",
    "\n",
    "test_pars=['fit_a','fit_Afe','fit_i','fit_gamma','fit_h']\n",
    "for fname in data_err['filename']:\n",
    "    original_chi2=float(data['chi2'][data['filename']==fname])\n",
    "    dof=float(data['dof'][data['filename']==fname])\n",
    "    new_chi2=float(data_err['chi2'][data_err['filename']==fname])\n",
    "#     print(float(data['chi2'][data['filename']==fname]))\n",
    "#     print(float(data_err['chi2'][data_err['filename']==fname]))\n",
    "    print(int(original_chi2-new_chi2), round(original_chi2/dof,2),round(new_chi2/dof,2))"
   ]
  },
  {
   "cell_type": "markdown",
   "metadata": {},
   "source": [
    "## DW, XMM"
   ]
  },
  {
   "cell_type": "code",
   "execution_count": 28,
   "metadata": {},
   "outputs": [],
   "source": [
    "datafile=\"simulated_spectra_2/xmm_hybrid/fits_dw_3to10.dat\"\n",
    "data=pd.read_csv(datafile)\n",
    "\n",
    "# data[\"i\"]=mutoi(data[\"mu\"])\n",
    "# data[\"delta_a\"]=data[\"fit_a\"]-data[\"a\"]\n",
    "# data[\"delta_i\"]=data[\"fit_i\"]-data[\"i\"]\n",
    "# data[\"delta_A\"]=data[\"fit_Afe\"]-data[\"Afe\"]\n",
    "data['redchi']=data['chi2']/data['dof']\n",
    "\n",
    "datafile_err=\"simulated_spectra_2/xmm_hybrid/fits_dw_3to10_err.dat\"\n",
    "data_err=pd.read_csv(datafile_err)\n",
    "# data_err[\"i\"]=mutoi(data_err[\"mu\"])\n",
    "# data_err[\"delta_a\"]=data_err[\"fit_a\"]-data_err[\"a\"]\n",
    "# data_err[\"delta_i\"]=data_err[\"fit_i\"]-data_err[\"i\"]\n",
    "# data_err[\"delta_A\"]=data_err[\"fit_Afe\"]-data_err[\"Afe\"]\n",
    "data_err['redchi']=data_err['chi2']/data_err['dof']"
   ]
  },
  {
   "cell_type": "code",
   "execution_count": 29,
   "metadata": {},
   "outputs": [
    {
     "name": "stdout",
     "output_type": "stream",
     "text": [
      "1 0.85 0.83\n",
      "4 1.3 1.22\n",
      "0 1.38 1.38\n",
      "9 2.05 1.89\n",
      "34 1.85 1.25\n",
      "286 8.68 3.73\n",
      "0 2.41 2.41\n",
      "0 0.96 0.95\n",
      "-1 1.54 1.56\n",
      "0 0.93 0.93\n"
     ]
    }
   ],
   "source": [
    "for fname in data_err['filename']:\n",
    "    original_chi2=float(data['chi2'][data['filename']==fname])\n",
    "    dof=float(data['dof'][data['filename']==fname])\n",
    "    new_chi2=float(data_err['chi2'][data_err['filename']==fname])\n",
    "#     print(float(data['chi2'][data['filename']==fname]))\n",
    "#     print(float(data_err['chi2'][data_err['filename']==fname]))\n",
    "    print(int(original_chi2-new_chi2), round(original_chi2/dof,2),round(new_chi2/dof,2))"
   ]
  },
  {
   "cell_type": "markdown",
   "metadata": {},
   "source": [
    "## DW Athena"
   ]
  },
  {
   "cell_type": "code",
   "execution_count": 31,
   "metadata": {},
   "outputs": [
    {
     "name": "stdout",
     "output_type": "stream",
     "text": [
      "-49 1.29 1.32\n",
      "0 0.95 0.95\n",
      "0 1.21 1.21\n",
      "0 1.06 1.06\n",
      "0 1.06 1.06\n",
      "18 1.01 1.0\n",
      "0 0.97 0.97\n",
      "2 1.0 1.0\n",
      "0 1.0 1.0\n",
      "0 1.03 1.03\n"
     ]
    }
   ],
   "source": [
    "datafile=\"simulated_spectra_2/athena_hybrid/fits_dw_3to10.dat\"\n",
    "data=pd.read_csv(datafile)\n",
    "\n",
    "# data[\"i\"]=mutoi(data[\"mu\"])\n",
    "# data[\"delta_a\"]=data[\"fit_a\"]-data[\"a\"]\n",
    "# data[\"delta_i\"]=data[\"fit_i\"]-data[\"i\"]\n",
    "# data[\"delta_A\"]=data[\"fit_Afe\"]-data[\"Afe\"]\n",
    "data['redchi']=data['chi2']/data['dof']\n",
    "\n",
    "datafile_err=\"simulated_spectra_2/athena_hybrid/fits_dw_3to10_err.dat\"\n",
    "data_err=pd.read_csv(datafile_err)\n",
    "# data_err[\"i\"]=mutoi(data_err[\"mu\"])\n",
    "# data_err[\"delta_a\"]=data_err[\"fit_a\"]-data_err[\"a\"]\n",
    "# data_err[\"delta_i\"]=data_err[\"fit_i\"]-data_err[\"i\"]\n",
    "# data_err[\"delta_A\"]=data_err[\"fit_Afe\"]-data_err[\"Afe\"]\n",
    "data_err['redchi']=data_err['chi2']/data_err['dof']\n",
    "\n",
    "\n",
    "for fname in data_err['filename']:\n",
    "    original_chi2=float(data['chi2'][data['filename']==fname])\n",
    "    dof=float(data['dof'][data['filename']==fname])\n",
    "    new_chi2=float(data_err['chi2'][data_err['filename']==fname])\n",
    "#     print(float(data['chi2'][data['filename']==fname]))\n",
    "#     print(float(data_err['chi2'][data_err['filename']==fname]))\n",
    "    print(int(original_chi2-new_chi2), round(original_chi2/dof,2),round(new_chi2/dof,2))"
   ]
  },
  {
   "cell_type": "code",
   "execution_count": null,
   "metadata": {},
   "outputs": [],
   "source": []
  }
 ],
 "metadata": {
  "kernelspec": {
   "display_name": "Python 3",
   "language": "python",
   "name": "python3"
  },
  "language_info": {
   "codemirror_mode": {
    "name": "ipython",
    "version": 3
   },
   "file_extension": ".py",
   "mimetype": "text/x-python",
   "name": "python",
   "nbconvert_exporter": "python",
   "pygments_lexer": "ipython3",
   "version": "3.8.5"
  }
 },
 "nbformat": 4,
 "nbformat_minor": 4
}
