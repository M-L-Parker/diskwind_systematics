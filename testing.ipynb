{
 "cells": [
  {
   "cell_type": "code",
   "execution_count": 1,
   "metadata": {},
   "outputs": [],
   "source": [
    "%matplotlib inline\n",
    "\n",
    "import numpy as np\n",
    "from matplotlib import pyplot as pl\n",
    "from astropy.io import fits"
   ]
  },
  {
   "cell_type": "code",
   "execution_count": 2,
   "metadata": {},
   "outputs": [],
   "source": [
    "lowres_fits=fits.open(\"dw_slow64rin_total.fits\")"
   ]
  },
  {
   "cell_type": "code",
   "execution_count": 16,
   "metadata": {},
   "outputs": [
    {
     "name": "stdout",
     "output_type": "stream",
     "text": [
      " PhoIndex [1.6 1.8 2.  2.2 2.4 0.  0.  0.  0.  0.  0.  0.  0.  0.  0.  0.  0.  0.\n",
      " 0.  0. ]\n",
      " Mdot [0.01960389 0.02704806 0.03731902 0.05149015 0.07104249 0.09801943\n",
      " 0.13524032 0.18659508 0.25745076 0.35521245 0.49009716 0.67620158\n",
      " 0.         0.         0.         0.         0.         0.\n",
      " 0.         0.        ]\n",
      " fv [0.25 0.5  0.75 1.   1.25 1.5  1.75 2.   0.   0.   0.   0.   0.   0.\n",
      " 0.   0.   0.   0.   0.   0.  ]\n",
      " LxLEdd [0.02516497 0.04475035 0.07957862 0.14151303 0.25164971 0.44750349\n",
      " 0.79578624 1.41513028 2.51649703 0.         0.         0.\n",
      " 0.         0.         0.         0.         0.         0.\n",
      " 0.         0.        ]\n",
      " mu [0.025 0.075 0.125 0.175 0.225 0.275 0.325 0.375 0.425 0.475 0.525 0.575\n",
      " 0.625 0.675 0.725 0.775 0.825 0.875 0.925 0.975]\n"
     ]
    }
   ],
   "source": [
    "for row in lowres_fits[\"parameters\"].data:\n",
    "    print(row[0],row[-1])\n",
    "    \n",
    "    "
   ]
  },
  {
   "cell_type": "code",
   "execution_count": 23,
   "metadata": {},
   "outputs": [
    {
     "data": {
      "text/plain": [
       "array([88.56745626, 85.6987777 , 82.81924422, 79.92134189, 76.99712184,\n",
       "       74.03798584, 71.03442501, 67.97568716, 64.84933659, 61.64064997,\n",
       "       58.33175675, 54.9003678 , 51.31781255, 47.5458498 , 43.53115217,\n",
       "       39.19496743, 34.41150867, 28.95502437, 22.33164501, 12.83856814])"
      ]
     },
     "execution_count": 23,
     "metadata": {},
     "output_type": "execute_result"
    }
   ],
   "source": [
    "np.arccos(lowres_fits[\"parameters\"].data[-1][-1])/np.pi/2*360"
   ]
  },
  {
   "cell_type": "code",
   "execution_count": 32,
   "metadata": {},
   "outputs": [
    {
     "data": {
      "text/plain": [
       "0.48480962024633717"
      ]
     },
     "execution_count": 32,
     "metadata": {},
     "output_type": "execute_result"
    }
   ],
   "source": [
    "np.cos(61/360*2*np.pi)"
   ]
  },
  {
   "cell_type": "code",
   "execution_count": null,
   "metadata": {},
   "outputs": [],
   "source": []
  }
 ],
 "metadata": {
  "kernelspec": {
   "display_name": "Python 3",
   "language": "python",
   "name": "python3"
  },
  "language_info": {
   "codemirror_mode": {
    "name": "ipython",
    "version": 3
   },
   "file_extension": ".py",
   "mimetype": "text/x-python",
   "name": "python",
   "nbconvert_exporter": "python",
   "pygments_lexer": "ipython3",
   "version": "3.7.1"
  }
 },
 "nbformat": 4,
 "nbformat_minor": 2
}
