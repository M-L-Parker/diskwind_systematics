{
 "cells": [
  {
   "cell_type": "code",
   "execution_count": 1,
   "metadata": {},
   "outputs": [],
   "source": [
    "%matplotlib inline\n",
    "import numpy as np\n",
    "from matplotlib import pyplot as pl\n",
    "import pandas as pd\n",
    "from astropy.io import fits\n",
    "import corner"
   ]
  },
  {
   "cell_type": "code",
   "execution_count": 3,
   "metadata": {},
   "outputs": [
    {
     "name": "stdout",
     "output_type": "stream",
     "text": [
      "calculating posteriors...\n",
      "Mdot__1\n",
      "fv__2\n",
      "LxLEdd__3\n",
      "mu__4\n",
      "a__9\n",
      "Incl__10\n",
      "gamma__14\n",
      "Afe__16\n",
      "refl_frac__18\n",
      "norm__19\n",
      "Calculating corner plot...\n"
     ]
    }
   ],
   "source": [
    "chainfile=fits.open('mcmc_xmmhybrid5.fits')\n",
    "chains=chainfile['chain'].data\n",
    "\n",
    "# For each parameter, find best fit and errors\n",
    "chain_cols=chainfile['chain'].columns\n",
    "\n",
    "# Find best fit\n",
    "bestfit=np.argmin(chains['fit_statistic'])\n",
    "\n",
    "big_list=[]\n",
    "bestfit_pars=[]\n",
    "labels=[]\n",
    "\n",
    "print('calculating posteriors...')\n",
    "for c in chain_cols:\n",
    "\n",
    "    if c.name != 'FIT_STATISTIC':\n",
    "\n",
    "        print(c.name)\n",
    "        vals=chains[c.name]\n",
    "\n",
    "        if np.std(vals)==0:\n",
    "            print(\"parameter\",c.name,'has no dispersion, skipping')\n",
    "        else:\n",
    "\n",
    "#             fig=pl.figure()\n",
    "#             ax=pl.subplot(111)\n",
    "\n",
    "            labels.append(c.name)\n",
    "\n",
    "            # Assume a log distribution if parameter spans more than 1 dex\n",
    "#             if max(vals)>= 10*min(vals) and not np.any(vals<=0):\n",
    "#                 logspace=True\n",
    "#                 vals=np.log10(vals)\n",
    "#             else:\n",
    "#                 logspace=False\n",
    "            big_list.append(vals)\n",
    "\n",
    "\n",
    "\n",
    "\n",
    "\n",
    "# Make nice corner/triangle plot showing parameter degeneracies\n",
    "print('Calculating corner plot...')\n",
    "big_array=np.vstack(big_list).T\n",
    "corner.corner(big_array,labels=labels)\n",
    "# pl.savefig(cwd+'/figures/mcmc_plots/'+epoch+'_corner.png',bbox_inches='tight')\n",
    "# pl.close()\n",
    "pl.savefig('corner.pdf',bbox_inches='tight')\n",
    "pl.close()\n",
    "\n",
    "chainfile.close()\n",
    "\n",
    "# os.chdir(cwd)\n",
    "    # exit()\n",
    "    \n"
   ]
  },
  {
   "cell_type": "code",
   "execution_count": null,
   "metadata": {},
   "outputs": [],
   "source": []
  }
 ],
 "metadata": {
  "kernelspec": {
   "display_name": "Python 3",
   "language": "python",
   "name": "python3"
  },
  "language_info": {
   "codemirror_mode": {
    "name": "ipython",
    "version": 3
   },
   "file_extension": ".py",
   "mimetype": "text/x-python",
   "name": "python",
   "nbconvert_exporter": "python",
   "pygments_lexer": "ipython3",
   "version": "3.8.5"
  }
 },
 "nbformat": 4,
 "nbformat_minor": 4
}
