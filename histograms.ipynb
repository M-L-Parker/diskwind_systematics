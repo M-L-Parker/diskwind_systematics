{
 "cells": [
  {
   "cell_type": "code",
   "execution_count": 3,
   "metadata": {},
   "outputs": [],
   "source": [
    "import numpy as np\n",
    "import pandas as pd\n",
    "from matplotlib import pyplot as pl\n",
    "import seaborn as sb"
   ]
  },
  {
   "cell_type": "code",
   "execution_count": 4,
   "metadata": {},
   "outputs": [],
   "source": [
    "def mutoi(mu):\n",
    "    i=  np.arccos(mu)/2/np.pi*360\n",
    "    return i\n",
    "\n",
    "def itomu(i):\n",
    "    mu=np.cos(i/320*2*np.pi)"
   ]
  },
  {
   "cell_type": "code",
   "execution_count": 8,
   "metadata": {},
   "outputs": [],
   "source": [
    "ref_datafile='fits_relxill.dat'\n",
    "refc_datafile='fits_relxill_control.dat'\n",
    "\n",
    "ref_data=pd.read_csv(ref_datafile)\n",
    "refc_data=pd.read_csv(refc_datafile)\n",
    "\n",
    "\n",
    "ref_data[\"i\"]=mutoi(ref_data[\"mu\"])\n",
    "ref_data[\"delta_a\"]=ref_data[\"fit_a\"]-ref_data[\"a\"]\n",
    "ref_data[\"delta_i\"]=ref_data[\"fit_i\"]-ref_data[\"i\"]\n",
    "ref_data[\"delta_h\"]=ref_data[\"fit_h\"]-ref_data[\"h\"]\n",
    "ref_data[\"delta_A\"]=ref_data[\"fit_Afe\"]-ref_data[\"Afe\"]\n",
    "\n",
    "\n",
    "refc_data[\"i\"]=mutoi(refc_data[\"mu\"])\n",
    "refc_data[\"delta_a\"]=refc_data[\"fit_a\"]-refc_data[\"a\"]\n",
    "refc_data[\"delta_i\"]=refc_data[\"fit_i\"]-refc_data[\"i\"]\n",
    "refc_data[\"delta_h\"]=refc_data[\"fit_h\"]-refc_data[\"h\"]\n",
    "refc_data[\"delta_A\"]=refc_data[\"fit_Afe\"]-refc_data[\"Afe\"]"
   ]
  },
  {
   "cell_type": "code",
   "execution_count": 16,
   "metadata": {},
   "outputs": [
    {
     "data": {
      "text/plain": [
       "<AxesSubplot:xlabel='a', ylabel='delta_a'>"
      ]
     },
     "execution_count": 16,
     "metadata": {},
     "output_type": "execute_result"
    },
    {
     "data": {
      "image/png": "[encoded data removed]",
      "text/plain": [
       "<Figure size 432x288 with 1 Axes>"
      ]
     },
     "metadata": {
      "needs_background": "light"
     },
     "output_type": "display_data"
    }
   ],
   "source": [
    "\n",
    "# sb.histplot(data=ref_data,x='fit_a')\n",
    "sb.histplot(data=refc_data,y='delta_a',x='a',kde=True)"
   ]
  },
  {
   "cell_type": "code",
   "execution_count": null,
   "metadata": {},
   "outputs": [],
   "source": []
  }
 ],
 "metadata": {
  "kernelspec": {
   "display_name": "Python 3",
   "language": "python",
   "name": "python3"
  },
  "language_info": {
   "codemirror_mode": {
    "name": "ipython",
    "version": 3
   },
   "file_extension": ".py",
   "mimetype": "text/x-python",
   "name": "python",
   "nbconvert_exporter": "python",
   "pygments_lexer": "ipython3",
   "version": "3.8.5"
  }
 },
 "nbformat": 4,
 "nbformat_minor": 4
}
